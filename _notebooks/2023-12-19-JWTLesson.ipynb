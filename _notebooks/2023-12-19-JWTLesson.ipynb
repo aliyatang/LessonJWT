{
 "cells": [
  {
   "cell_type": "markdown",
   "metadata": {},
   "source": [
    "---\n",
    "comments: true\n",
    "layout: notebook\n",
    "title: JWT Lesson\n",
    "description: JWT Lesson\n",
    "type: hacks\n",
    "toc: true\n",
    "courses: { csa: {week: 16} }\n",
    "---"
   ]
  },
  {
   "cell_type": "markdown",
   "metadata": {},
   "source": [
    "# JWT - Java, Security Lesson \n",
    "Period 1 - Emma, Vivian, Grace, Aliya, Kevin, Isabelle"
   ]
  },
  {
   "cell_type": "markdown",
   "metadata": {},
   "source": [
    "## Definitions & Purpose\n",
    "\n",
    "- JSON Web Token (JWT) \n",
    "    - popular way to authenticate users in a web application. It is a compact, URL-safe means of representing claims to be transferred between two parties. The claims in a JWT are encoded as a JSON object that is digitally signed using JSON Web Signature (JWS). \n",
    "    - Compact, url safe means of representing claims to securely transmit information between parties.\n",
    "        - These claims are encoded as JSON objects that are digitally signed using a JSON web signature\n",
    "    - Concise and efficient representation, allows for ease of transmissions over networks\n",
    "    - No need to reference external source/database to validate info\n",
    "- Common use cases: \n",
    "    - Authentication\n",
    "    - information exchange\n",
    "    - Authorization\n",
    "    - Secure your APIs!\n",
    "\n",
    "Popcorn hack: list 3 real world applications of JWT: \n",
    "\n"
   ]
  },
  {
   "cell_type": "markdown",
   "metadata": {},
   "source": [
    "## Components of JWT\n",
    "\n",
    "1. Header\n",
    "    - Algorithm and token type\n",
    "2. Payload\n",
    "    - Claims and user data\n",
    "    - claims are statements about the entity (users)\n",
    "        - Standard claims (iss, sub, aud, exp, etc.)\n",
    "        - Custom claims such as 'authorities'\n",
    "    - There are three types of claims: \n",
    "        - registered: predefined claims that are no mandatory but recommended\n",
    "        - public: claims defined within the IA and JSON web token registry\n",
    "        - private: custom claims created to share information between parties that agree to using them\n",
    "3. Signature\n",
    "    - Ensuring integrity and authenticity\n",
    "    - verify the sender of the JWT\n",
    "    - function\n",
    "        1. Creating a signature\n",
    "        2. Verification process\n",
    "        3. Signature tampering activity\n",
    "\n",
    "- Below is code for what the JSON object for JWT looks like. Here is a link to a JWT website, you can mess around with it [Link](https://jwt.io/)\n"
   ]
  },
  {
   "cell_type": "code",
   "execution_count": null,
   "metadata": {
    "vscode": {
     "languageId": "plaintext"
    }
   },
   "outputs": [],
   "source": [
    "// header\n",
    "{\n",
    "    \"alg\": \"HS256\", //type of sign in algorithm\n",
    "    \"typ\": \"JWT\"    //type of token\n",
    "}\n",
    "\n",
    "// payload\n",
    "\"sub\": \"jwt\", //example of a registered claim\n",
    "\"name\": \"jwt lesson\",\n",
    "\"iat\": 1516239022\",\n",
    "\"authorities\": [\n",
    "    \"ADMIN\",\n",
    "    \"MANAGER\"\n",
    "],\n",
    "\"extra-claims\": \"some data here\"\n",
    "\n",
    "//signature\n",
    "HMACSHA256(\n",
    "    base64UrlEncode(header) + \".\" +\n",
    "    base64UrlEncode(payload),\n",
    "    your-256-bit-secret\n",
    ") secret base64 encoded\n"
   ]
  },
  {
   "cell_type": "markdown",
   "metadata": {},
   "source": [
<<<<<<< HEAD
=======
    "## Implementation Approaches & Security Considerations  \n",
    "private and public key"
   ]
  },
  {
   "cell_type": "markdown",
   "metadata": {},
   "source": [
>>>>>>> 5038a3f095c0e4b34ddb9f65f2394e74b87e42a7
    "## JWT with Spring Boot  "
   ]
  },
  {
   "cell_type": "markdown",
   "metadata": {},
   "source": [
    "## Big Idea  \n",
    "<img alt=\"JWTProcess\" src=\"{{site.baseurl}}/images/JwtProcess.png\">\n",
    "\n",
    "1. JwtAuthFilter is executed first (validates and checks JWT Tokens)\n",
    "    - Internal check to check if the token is there or not. \n",
    "    - Extracts the subject (username or email)\n",
    "    - If token is missing → 403 error sent\n",
    "    - If token is there:\n",
    "        - Makes a call using the UserDetails Service to fetch user info from the database. Uses the subject extracted to do so\n",
    "        - Response comes back from the database (user either exists or doesn't)\n",
    "        - If the user does not exist → 403 error sent\n",
    "        - If user exists → validate JWT process is started\n",
    "\n",
    "2. Validate JWT Process\n",
    "- Calls the jwt service which takes the user and jwt token as parameters\n",
    "- Token isn't valid → 403 error sent\n",
    "- Token is valid → update the security context holder and set the connected user. User is now authenticated yay!\n",
    "    - Automatically dispatch request → sent to dispatcher servlet → sent to controller → allow all execution user wants to do \n",
    "    - Sends http 200\n"
   ]
  },
  {
   "cell_type": "markdown",
   "metadata": {},
   "source": [
    "## Demo Time\n",
    "- Clone this repo and follow along in each JWT file: https://github.com/vivianknee/jwtlessonBackend.git"
   ]
  },
  {
   "cell_type": "markdown",
   "metadata": {},
   "source": [
    "### Logic flow  \n",
    "<b>Step 1 (Client - Login Request):</b> The client sends a login request with user credentials (username and password) to the /authenticate endpoint.\n",
    "\n",
    "<b>Step 2 (JwtApiController):</b>\n",
    "- The JwtApiController receives the login request.\n",
    "- It authenticates the user credentials using the AuthenticationManager.\n",
    "- If authentication is successful:\n",
    "Retrieves user details using the PersonDetailsService.\n",
    "Generates a JWT using the JwtTokenUtil.\n",
    "Sends the JWT as an HTTP-only secure cookie in the response.\n",
    "\n",
    "<b>Step 3 (Client - Subsequent Requests):</b>\n",
    "- The client includes the JWT cookie in the headers of subsequent requests.\n",
    "\n",
    "<b>Step 4 (JwtRequestFilter):</b>\n",
    "- For each incoming request, the JwtRequestFilter intercepts the request.\n",
    "- Extracts the JWT from the HTTP request headers or cookies.\n",
    "- Validates the JWT using the JwtTokenUtil.\n",
    "- If the token is valid, sets up authentication using Spring Security's SecurityContextHolder.\n",
    "\n",
    "<b>Step 5 (Spring Security):</b>\n",
    "- Spring Security processes the request with the authenticated user.\n",
    "- The application can now authorize the user based on the roles and permissions associated with the JWT.\n",
    "\n",
    "<b>Step 6 (Error Handling - JwtAuthenticationEntryPoint):</b>\n",
    "- If the JWT is missing, invalid, or expired, and the request requires authentication, the JwtAuthenticationEntryPoint handles the authentication failure.\n",
    "- Responds with an HTTP 401 (Unauthorized) status.\n"
   ]
  },
  {
   "cell_type": "markdown",
   "metadata": {},
   "source": [
    "## Implementation Approaches & Security Considerations  \n",
    "Usually, there is a file called `JwtService.java` which contains the methods. Some methods include methods to extract claims and ones to return claims. Here's an example: "
   ]
  },
  {
   "cell_type": "code",
   "execution_count": null,
   "metadata": {
    "vscode": {
     "languageId": "java"
    }
   },
   "outputs": [],
   "source": [
    "@Service\n",
    "public class JwtService {\n",
    "    public String extractUsername(String token) {\n",
    "        return null;\n",
    "    }\n",
    "\n",
    "    private Claims extractAllClaims(String token) {\n",
    "        return Jwts\n",
    "            .parserBuilder()\n",
    "            .setSigningKey(getSignInKey())\n",
    "            .build()\n",
    "            .parseClaimsJws(token)\n",
    "            .getBody();\n",
    "    }\n",
    "}"
   ]
  },
  {
   "cell_type": "markdown",
   "metadata": {},
   "source": [
    "## Hacks "
   ]
  }
 ],
 "metadata": {
  "language_info": {
   "name": "python"
  }
 },
 "nbformat": 4,
 "nbformat_minor": 2
}
