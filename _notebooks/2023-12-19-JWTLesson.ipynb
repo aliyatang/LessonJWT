{
 "cells": [
  {
   "cell_type": "markdown",
   "metadata": {},
   "source": [
    "<h1>JWT - Java, Security Lesson </h1>\n",
    "Period 1 - Emma, Vivian, Grace, Aliya, Kevin, Isabelle"
   ]
  },
  {
   "cell_type": "markdown",
   "metadata": {},
   "source": [
    "<h1> Definitions & Purpose</h1>"
   ]
  },
  {
   "cell_type": "markdown",
   "metadata": {},
   "source": [
    "<h1>Components of JWT</h1>"
   ]
  },
  {
   "cell_type": "markdown",
   "metadata": {},
   "source": [
    "<h1>Deep Dive into Anatomy of a JWT </h1>"
   ]
  },
  {
   "cell_type": "markdown",
   "metadata": {},
   "source": [
    "<h1> Implementation Approaches & Security Considerations </h1>"
   ]
  },
  {
   "cell_type": "markdown",
   "metadata": {},
   "source": [
    "<h1> JWT with Spring Boot </h1>"
   ]
  },
  {
   "cell_type": "markdown",
   "metadata": {},
   "source": [
    "<h2> Big Idea </h2>\n",
    "<img alt=\"JWTProcess\" src=\"{{site.baseurl}}/images/JwtProcess.png\">\n",
    "\n",
    "1. JwtAuthFilter is executed first (validates and checks JWT Tokens)\n",
    "    - Internal check to check if the token is there or not. \n",
    "    - Extracts the subject (username or email)\n",
    "    - If token is missing → 403 error sent\n",
    "    - If token is there:\n",
    "        - Makes a call using the UserDetails Service to fetch user info from the database. Uses the subject extracted to do so\n",
    "        - Response comes back from the database (user either exists or doesn't)\n",
    "        - If the user does not exist → 403 error sent\n",
    "        - If user exists → validate JWT process is started\n",
    "\n",
    "2. Validate JWT Process\n",
    "- Calls the jwt service which takes the user and jwt token as parameters\n",
    "- Token isn't valid → 403 error sent\n",
    "- Token is valid → update the security context holder and set the connected user. User is now authenticated yay!\n",
    "    - Automatically dispatch request → sent to dispatcher servlet → sent to controller → allow all execution user wants to do \n",
    "    - Sends http 200\n"
   ]
  },
  {
   "cell_type": "markdown",
   "metadata": {},
   "source": [
    "<h2> Code Implementation </h2>\n",
    "- Clone this repo and follow along in each JWT file: https://github.com/vivianknee/jwtlessonBackend.git"
   ]
  },
  {
   "cell_type": "markdown",
   "metadata": {},
   "source": [
    "<h3> Logic flow </h3>\n",
    "<b>Step 1 (Client - Login Request):</b> The client sends a login request with user credentials (username and password) to the /authenticate endpoint.\n",
    "\n",
    "<b>Step 2 (JwtApiController):</b>\n",
    "- The JwtApiController receives the login request.\n",
    "- It authenticates the user credentials using the AuthenticationManager.\n",
    "- If authentication is successful:\n",
    "Retrieves user details using the PersonDetailsService.\n",
    "Generates a JWT using the JwtTokenUtil.\n",
    "Sends the JWT as an HTTP-only secure cookie in the response.\n",
    "\n",
    "<b>Step 3 (Client - Subsequent Requests):</b>\n",
    "- The client includes the JWT cookie in the headers of subsequent requests.\n",
    "\n",
    "<b>Step 4 (JwtRequestFilter):</b>\n",
    "- For each incoming request, the JwtRequestFilter intercepts the request.\n",
    "- Extracts the JWT from the HTTP request headers or cookies.\n",
    "- Validates the JWT using the JwtTokenUtil.\n",
    "- If the token is valid, sets up authentication using Spring Security's SecurityContextHolder.\n",
    "\n",
    "<b>Step 5 (Spring Security):</b>\n",
    "- Spring Security processes the request with the authenticated user.\n",
    "- The application can now authorize the user based on the roles and permissions associated with the JWT.\n",
    "\n",
    "<b>Step 6 (Error Handling - JwtAuthenticationEntryPoint):</b>\n",
    "- If the JWT is missing, invalid, or expired, and the request requires authentication, the JwtAuthenticationEntryPoint handles the authentication failure.\n",
    "- Responds with an HTTP 401 (Unauthorized) status.\n"
   ]
  },
  {
   "cell_type": "markdown",
   "metadata": {},
   "source": [
    "<h1>Hacks </h1>"
   ]
  }
 ],
 "metadata": {
  "language_info": {
   "name": "python"
  }
 },
 "nbformat": 4,
 "nbformat_minor": 2
}
