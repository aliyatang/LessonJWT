{
 "cells": [
  {
   "cell_type": "markdown",
   "metadata": {},
   "source": [
    "---\n",
    "comments: true\n",
    "layout: notebook\n",
    "title: JWT Lesson\n",
    "description: JWT Lesson\n",
    "type: hacks\n",
    "toc: true\n",
    "courses: { csa: {week: 16} }\n",
    "---"
   ]
  },
  {
   "cell_type": "markdown",
   "metadata": {},
   "source": [
    "# JWT - Java, Security Lesson \n",
    "Period 1 - Emma, Vivian, Grace, Aliya, Kevin, Isabelle"
   ]
  },
  {
   "cell_type": "markdown",
   "metadata": {},
   "source": [
    "## Definitions & Purpose\n",
    "\n",
    "- JSON Web Token (JWT) \n",
    "    - popular way to authenticate users in a web application. It is a compact, URL-safe means of representing claims to be transferred between two parties. The claims in a JWT are encoded as a JSON object that is digitally signed using JSON Web Signature (JWS). \n",
    "    - Compact, url safe means of representing claims to securely transmit information between parties.\n",
    "        - These claims are encoded as JSON objects that are digitally signed using a JSON web signature\n",
    "    - Concise and efficient representation, allows for ease of transmissions over networks\n",
    "    - No need to reference external source/database to validate info\n",
    "- Common use cases: \n",
    "    - Authentication\n",
    "    - information exchange\n",
    "    - Authorization\n",
    "    - Secure your APIs!\n",
    "\n",
    "Popcorn hack: list 3 real world applications of JWT: \n",
    "\n"
   ]
  },
  {
<<<<<<< HEAD
=======
   "cell_type": "code",
   "execution_count": null,
   "metadata": {
    "vscode": {
     "languageId": "java"
    }
   },
   "outputs": [],
   "source": []
  },
  {
>>>>>>> 47b880c (3 thingy majiggies)
   "cell_type": "markdown",
   "metadata": {},
   "source": [
    "## Components of JWT\n",
    "\n",
    "1. Header\n",
    "    - Algorithm and token type\n",
    "2. Payload\n",
    "    - Claims and user data\n",
    "    - claims are statements about the entity (users)\n",
    "        - Standard claims (iss, sub, aud, exp, etc.)\n",
    "        - Custom claims such as 'authorities'\n",
    "    - There are three types of claims: \n",
    "        - registered: predefined claims that are no mandatory but recommended\n",
    "        - public: claims defined within the IA and JSON web token registry\n",
    "        - private: custom claims created to share information between parties that agree to using them\n",
    "3. Signature\n",
    "    - Ensuring integrity and authenticity\n",
    "    - verify the sender of the JWT\n",
    "    - function\n",
    "        1. Creating a signature\n",
    "        2. Verification process\n",
    "        3. Signature tampering activity\n",
    "\n",
<<<<<<< HEAD
    "- Below is code for what the JSON object for JWT looks like. Here is a link to a JWT website, you can mess around with it [Link](https://jwt.io/)\n"
=======
    "- Navigate to this website: [Link](https://jwt.io/)\n",
    "\n",
    "Encoded: Json Web Token (what you send to and from the client)\n",
    "Decoded: algorithm, data, verify token hasn't been changed\n"
   ]
  },
  {
   "cell_type": "markdown",
   "metadata": {},
   "source": [
    "<span style=\"color: red;\">eyJhbGciOiJIUzUxMiIsInR5cCI6IkpXVCJ9.</span><span style=\"color: blue;\">eyJzdWIiOiIxMjM0NTY3ODkwIiwibmFtZSI6IkpvaG4gRG9lIiwiYWRtaW4iOnRydWUsImlhdCI6MTUxNjIzOTAyMn0.</span><span style=\"color: orange;\">67RDCFmU4w7aKk6EPk1vsZEDywDfmSAIt3CjGwjp1qIqi9hrr6QSRUSzB9HiDlyApyuuKAIAUs42n-Rh8LNp1Q</span>"
>>>>>>> 47b880c (3 thingy majiggies)
   ]
  },
  {
   "cell_type": "code",
   "execution_count": null,
   "metadata": {
    "vscode": {
     "languageId": "java"
    }
   },
   "outputs": [],
   "source": [
    "// header\n",
    "{\n",
    "    \"alg\": \"HS256\", //type of sign in algorithm\n",
    "    \"typ\": \"JWT\"    //type of token\n",
    "}\n",
    "\n",
    "// payload\n",
    "\"sub\": \"jwt\", //example of a registered claim\n",
    "\"name\": \"jwt lesson\",\n",
    "\"iat\": 1516239022\",\n",
    "\"authorities\": [\n",
    "    \"ADMIN\",\n",
    "    \"MANAGER\"\n",
    "],\n",
    "\"extra-claims\": \"some data here\"\n",
    "\n",
    "//signature\n",
    "HMACSHA256(\n",
    "    base64UrlEncode(header) + \".\" +\n",
    "    base64UrlEncode(payload),\n",
    "    your-256-bit-secret\n",
    ") secret base64 encoded\n"
   ]
  },
  {
   "cell_type": "code",
   "execution_count": 3,
   "metadata": {
    "vscode": {
     "languageId": "java"
    }
   },
   "outputs": [
    {
     "name": "stdout",
     "output_type": "stream",
     "text": [
      "JWT Header: eyJhbGciOiJIUzI1NiIsInR5cCI6IkpXVCJ9\n"
     ]
    }
   ],
   "source": [
    "import java.util.Base64;\n",
    "\n",
    "public class JwtHeaderExample {\n",
    "    public static void main(String[] args) {\n",
    "        // JWT Header\n",
    "        String algorithm = \"HS256\";\n",
    "        String type = \"JWT\";\n",
    "\n",
    "        // Combine Header properties\n",
    "        String header = \"{\\\"alg\\\":\\\"\" + algorithm + \"\\\",\\\"typ\\\":\\\"\" + type + \"\\\"}\";\n",
    "\n",
    "        // Base64 URL encode the header\n",
    "        String base64UrlHeader = Base64.getUrlEncoder().encodeToString(header.getBytes());\n",
    "\n",
    "        System.out.println(\"JWT Header: \" + base64UrlHeader);\n",
    "    }\n",
    "}\n",
    "\n",
    "// Run this code\n",
    "JwtHeaderExample.main(null);\n"
   ]
  },
  {
   "cell_type": "code",
   "execution_count": null,
   "metadata": {
    "vscode": {
     "languageId": "java"
    }
   },
   "outputs": [],
   "source": [
    "import java.util.Base64;\n",
    "import java.util.HashMap;\n",
    "import java.util.Map;\n",
    "\n",
    "public class JwtPayloadExample {\n",
    "    public static void main(String[] args) {\n",
    "        // JWT Payload (Claims)\n",
    "        Map<String, Object> claims = new HashMap<>();\n",
    "        claims.put(\"name\", \"Grace\");\n",
    "        claims.put(\"class\", \"CSA\");\n",
    "        claims.put(\"exp\", System.currentTimeMillis() + 1800000); // 30 minutes expiration\n",
    "\n",
    "        // Convert Claims to JSON and Base64 URL encode the payload\n",
    "        String payload = mapToJson(claims);\n",
    "        String base64UrlPayload = Base64.getUrlEncoder().encodeToString(payload.getBytes());\n",
    "\n",
    "        System.out.println(\"JWT Payload: \" + base64UrlPayload);\n",
    "    }\n",
    "\n",
    "    private static String mapToJson(Map<String, Object> map) {\n",
    "        // Implement JSON conversion logic (use your preferred approach)\n",
    "        return \"{ \\\"customKey\\\": \\\"customValue\\\" }\";\n",
    "    }\n",
    "}\n",
    "\n",
    "// Run This Code\n",
    "JwtPayloadExample.main(null);"
   ]
  },
  {
   "cell_type": "code",
   "execution_count": 9,
   "metadata": {
    "vscode": {
     "languageId": "java"
    }
   },
   "outputs": [
    {
     "name": "stdout",
     "output_type": "stream",
     "text": [
      "JWT Signature: wYRaLptuBSNBjz-bTaZw3bp8wf4UuMJc8nW6KDffZBI=\n"
     ]
    }
   ],
   "source": [
    "import javax.crypto.Mac;\n",
    "import javax.crypto.spec.SecretKeySpec;\n",
    "import java.nio.charset.StandardCharsets;\n",
    "import java.security.InvalidKeyException;\n",
    "import java.security.NoSuchAlgorithmException;\n",
    "import java.util.Base64;\n",
    "\n",
    "public class JwtSignatureExample {\n",
    "    public static void main(String[] args) {\n",
    "        // Secret key for encoding and decoding\n",
    "        String secretKey = \"your_secret_key\";\n",
    "\n",
    "        // Combine Header and Payload with a period '.'\n",
    "        String base64UrlHeader = \"base64UrlHeader\"; // Placeholder for the actual base64UrlHeader\n",
    "        String base64UrlPayload = \"base64UrlPayload\"; // Placeholder for the actual base64UrlPayload\n",
    "        String headerPayload = base64UrlHeader + \".\" + base64UrlPayload;\n",
    "\n",
    "        // Generate HMAC SHA-256 signature\n",
    "        byte[] signature = HmacSha256(headerPayload, secretKey);\n",
    "\n",
    "        // Base64 URL encode the signature\n",
    "        String base64UrlSignature = Base64.getUrlEncoder().encodeToString(signature);\n",
    "\n",
    "        System.out.println(\"JWT Signature: \" + base64UrlSignature);\n",
    "    }\n",
    "\n",
    "    private static byte[] HmacSha256(String data, String key) {\n",
    "        try {\n",
    "            Mac sha256Hmac = Mac.getInstance(\"HmacSHA256\");\n",
    "            SecretKeySpec secretKey = new SecretKeySpec(key.getBytes(StandardCharsets.UTF_8), \"HmacSHA256\");\n",
    "            sha256Hmac.init(secretKey);\n",
    "            return sha256Hmac.doFinal(data.getBytes(StandardCharsets.UTF_8));\n",
    "        } catch (NoSuchAlgorithmException | InvalidKeyException e) {\n",
    "            throw new RuntimeException(\"Error while generating HMAC SHA-256\", e);\n",
    "        }\n",
    "    }\n",
    "}\n",
    "\n",
    "JwtSignatureExample.main(null);"
   ]
  },
  {
   "cell_type": "markdown",
   "metadata": {},
   "source": [
    "## JWT with Spring Boot  "
   ]
  },
  {
   "cell_type": "markdown",
   "metadata": {},
   "source": [
<<<<<<< HEAD
    "## Big Idea  \n",
=======
    "<h1> Implementation Approaches & Security Considerations </h1>"
   ]
  },
  {
   "cell_type": "markdown",
   "metadata": {},
   "source": []
  },
  {
   "cell_type": "markdown",
   "metadata": {},
   "source": [
    "<h1> JWT with Spring Boot </h1>"
   ]
  },
  {
   "cell_type": "markdown",
   "metadata": {},
   "source": [
    "<h2> Big Idea </h2>\n",
>>>>>>> 47b880c (3 thingy majiggies)
    "<img alt=\"JWTProcess\" src=\"{{site.baseurl}}/images/JwtProcess.png\">\n",
    "\n",
    "1. JwtAuthFilter is executed first (validates and checks JWT Tokens)\n",
    "    - Internal check to check if the token is there or not. \n",
    "    - Extracts the subject (username or email)\n",
    "    - If token is missing → 403 error sent\n",
    "    - If token is there:\n",
    "        - Makes a call using the UserDetails Service to fetch user info from the database. Uses the subject extracted to do so\n",
    "        - Response comes back from the database (user either exists or doesn't)\n",
    "        - If the user does not exist → 403 error sent\n",
    "        - If user exists → validate JWT process is started\n",
    "\n",
    "2. Validate JWT Process\n",
    "- Calls the jwt service which takes the user and jwt token as parameters\n",
    "- Token isn't valid → 403 error sent\n",
    "- Token is valid → update the security context holder and set the connected user. User is now authenticated yay!\n",
    "    - Automatically dispatch request → sent to dispatcher servlet → sent to controller → allow all execution user wants to do \n",
    "    - Sends http 200\n"
   ]
  },
  {
   "cell_type": "markdown",
   "metadata": {},
   "source": [
    "## JWT Walkthrough\n",
    "- Clone this repo and follow along in each JWT file: https://github.com/vivianknee/jwtlessonBackend.git"
   ]
  },
  {
   "cell_type": "markdown",
   "metadata": {},
   "source": [
    "### Logic flow  \n",
    "Here is a diagram that makes it easier to understand the process tha happens between JWT and the API calls. Emma will now do a walkthrough of the files\n",
    "<img alt=\"JWTApi\" src=\"{{site.baseurl}}/images/JwtAPI.png\">\n",
    "\n",
    "<b>Step 1 (Client - Login Request):</b> The client sends a login request with user credentials (username and password) to the /authenticate endpoint.\n",
    "\n",
    "<b>Step 2 (JwtApiController):</b>\n",
    "- The JwtApiController receives the login request.\n",
    "- It authenticates the user credentials using the AuthenticationManager.\n",
    "- If authentication is successful:\n",
    "Retrieves user details using the PersonDetailsService.\n",
    "Generates a JWT using the JwtTokenUtil.\n",
    "Sends the JWT as an HTTP-only secure cookie in the response.\n",
    "\n",
    "<b>Step 3 (Client - Subsequent Requests):</b>\n",
    "- The client includes the JWT cookie in the headers of subsequent requests.\n",
    "\n",
    "<b>Step 4 (JwtRequestFilter):</b>\n",
    "- For each incoming request, the JwtRequestFilter intercepts the request.\n",
    "- Extracts the JWT from the HTTP request headers or cookies.\n",
    "- Validates the JWT using the JwtTokenUtil.\n",
    "- If the token is valid, sets up authentication using Spring Security's SecurityContextHolder.\n",
    "\n",
    "<b>Step 5 (Spring Security):</b>\n",
    "- Spring Security processes the request with the authenticated user.\n",
    "- The application can now authorize the user based on the roles and permissions associated with the JWT.\n",
    "\n",
    "<b>Step 6 (Error Handling - JwtAuthenticationEntryPoint):</b>\n",
    "- If the JWT is missing, invalid, or expired, and the request requires authentication, the JwtAuthenticationEntryPoint handles the authentication failure.\n",
    "- Responds with an HTTP 401 (Unauthorized) status.\n"
   ]
  },
  {
   "cell_type": "markdown",
   "metadata": {},
   "source": [
    "## Implementation Approaches & Security Considerations  \n",
    "Usually, there is a file called `JwtService.java` which contains the methods. Some methods include methods to extract claims and ones to return claims. Here's an example: "
   ]
  },
  {
   "cell_type": "code",
   "execution_count": null,
   "metadata": {
    "vscode": {
     "languageId": "java"
    }
   },
   "outputs": [],
   "source": [
    "@Service\n",
    "public class JwtService {\n",
    "    public String extractUsername(String token) {\n",
    "        return null;\n",
    "    }\n",
    "\n",
    "    private Claims extractAllClaims(String token) {\n",
    "        return Jwts\n",
    "            .parserBuilder()\n",
    "            .setSigningKey(getSignInKey())\n",
    "            .build()\n",
    "            .parseClaimsJws(token)\n",
    "            .getBody();\n",
    "    }\n",
    "}"
   ]
  },
  {
   "cell_type": "markdown",
   "metadata": {},
   "source": [
    "## Implementation Approaches & Security Considerations \n",
    "JWTs have the signature so they can't be modified in transit\n",
    "\n",
    "Key Usage: \n",
    "- When token is issued by authorization server, it is signed with key\n",
    "- when client reices token, signature is validated using key\n",
    "\n",
    "Symmetric vs. Asymmetric Key Approaches:\n",
    "- Symmetric Key: Single secret key used to sign and validate the token\n",
    "- Asymmetric Key: Different keys used to sign and validate token, only the autorization server has ability to sign it\n",
    "\n",
    "Additional Security Considerations: \n",
    "- Token Scope: limit token's access to specific actions or resources\n",
    "- Token Revocation: revoke token if user's access needs to be taken away\n",
    "- Token Encryption: ecrypt token if it contains sensitive information that shouldn't be visible evn if intercepted\n",
    "- Regular Key Rotation: roate keys regularly for security and limit impact of compromised key"
   ]
  },
  {
   "cell_type": "markdown",
   "metadata": {},
   "source": [
    "## Hacks "
   ]
  }
 ],
 "metadata": {
  "kernelspec": {
   "display_name": "Java",
   "language": "java",
   "name": "java"
  },
  "language_info": {
   "codemirror_mode": "java",
   "file_extension": ".jshell",
   "mimetype": "text/x-java-source",
   "name": "Java",
   "pygments_lexer": "java",
   "version": "20.0.2+9-78"
  }
 },
 "nbformat": 4,
 "nbformat_minor": 2
}
