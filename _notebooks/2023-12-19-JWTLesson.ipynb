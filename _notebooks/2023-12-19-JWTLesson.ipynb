{
 "cells": [
  {
   "cell_type": "markdown",
   "metadata": {},
   "source": [
    "<h1>JWT - Java, Security Lesson </h1>\n",
    "Period 1 - Emma, Vivian, Grace, Aliya, Kevin, Isabelle"
   ]
  },
  {
   "cell_type": "markdown",
   "metadata": {},
   "source": [
    "<h1> Definitions & Purpose</h1>\n",
    "\n",
    "- JSON Web Token (JWT) \n",
    "    - popular way to authenticate users in a web application. It is a compact, URL-safe means of representing claims to be transferred between two parties. The claims in a JWT are encoded as a JSON object that is digitally signed using JSON Web Signature (JWS). \n",
    "    - Compact, url safe means of representing claims to securely transmit information between parties.\n",
    "        - These claims are encoded as JSON objects that are digitally signed using a JSON web signature\n",
    "\n",
    "\n",
    "\n"
   ]
  },
  {
   "cell_type": "code",
   "execution_count": null,
   "metadata": {},
   "outputs": [],
   "source": []
  },
  {
   "cell_type": "markdown",
   "metadata": {},
   "source": [
    "\n",
    "Concise and efficient representation, allows for ease of transmissions over networks\n",
    "No need to reference external source/database to validate info\n",
    "Common use cases: \n",
    "Authentication\n",
    "information exchange\n",
    "Authorization\n",
    "Secure your APIs!\n",
    "\n",
    "Popcorn hack: list 3 real world applications of JWT: "
   ]
  },
  {
   "cell_type": "markdown",
   "metadata": {},
   "source": [
    "<h1>Components of JWT</h1>\n",
    "\n",
    "1. Header\n",
    "    - The header typically consists of two parts: the type of the ____, which is JWT, and the ____ that is used, such as HMAC SHA256 or RSA SHA256. It is Base64Url encoded to form the first part of the JWT\n",
    "2. Payload\n",
    "    - Claims and user data\n",
    "    - claims are statements about the entity (users)\n",
    "    - There are three types of claims: \n",
    "        - registered: predefined claims that are no mandatory but recommended\n",
    "        - ___: claims defined within the IA and JSON web token registry\n",
    "        - private: custom claims created to share information between parties that agree to using them\n",
    "3. Signature\n",
    "    - Ensuring integrity and authenticity\n",
    "    - verify the sender of the JWT\n",
    "\n",
    "- Navigate to this website: [Link](https://jwt.io/)\n",
    "\n",
    "Encoded: Json Web Token (what you send to and from the client)\n",
    "Decoded: algorithm, data, verify token hasn't been changed\n"
   ]
  },
  {
   "cell_type": "markdown",
   "metadata": {},
   "source": [
    "<span style=\"color: red;\">eyJhbGciOiJIUzUxMiIsInR5cCI6IkpXVCJ9.</span><span style=\"color: blue;\">eyJzdWIiOiIxMjM0NTY3ODkwIiwibmFtZSI6IkpvaG4gRG9lIiwiYWRtaW4iOnRydWUsImlhdCI6MTUxNjIzOTAyMn0.</span><span style=\"color: orange;\">67RDCFmU4w7aKk6EPk1vsZEDywDfmSAIt3CjGwjp1qIqi9hrr6QSRUSzB9HiDlyApyuuKAIAUs42n-Rh8LNp1Q</span>"
   ]
  },
  {
   "cell_type": "code",
   "execution_count": null,
   "metadata": {},
   "outputs": [],
   "source": [
    "// header\n",
    "{\n",
    "    \"alg\": \"HS256\", //type of sign in algorithm\n",
    "    \"typ\": \"JWT\"    //type of token\n",
    "}\n",
    "\n",
    "// payload\n",
    "\"sub\": \"jwt\", //example of a registered claim\n",
    "\"name\": \"jwt lesson\",\n",
    "\"iat\": 1516239022\",\n",
    "\"authorities\": [\n",
    "    \"ADMIN\",\n",
    "    \"MANAGER\"\n",
    "],\n",
    "\"extra-claims\": \"some data here\"\n",
    "\n",
    "//signature\n",
    "HMACSHA256(\n",
    "    base64UrlEncode(header) + \".\" +\n",
    "    base64UrlEncode(payload),\n",
    "    your-256-bit-secret\n",
    ") secret base64 encoded\n"
   ]
  },
  {
   "cell_type": "code",
   "execution_count": 3,
   "metadata": {},
   "outputs": [
    {
     "name": "stdout",
     "output_type": "stream",
     "text": [
      "JWT Header: eyJhbGciOiJIUzI1NiIsInR5cCI6IkpXVCJ9\n"
     ]
    }
   ],
   "source": [
    "import java.util.Base64;\n",
    "\n",
    "public class JwtHeaderExample {\n",
    "    public static void main(String[] args) {\n",
    "        // JWT Header\n",
    "        String algorithm = \"HS256\";\n",
    "        String type = \"JWT\";\n",
    "\n",
    "        // Combine Header properties\n",
    "        String header = \"{\\\"alg\\\":\\\"\" + algorithm + \"\\\",\\\"typ\\\":\\\"\" + type + \"\\\"}\";\n",
    "\n",
    "        // Base64 URL encode the header\n",
    "        String base64UrlHeader = Base64.getUrlEncoder().encodeToString(header.getBytes());\n",
    "\n",
    "        System.out.println(\"JWT Header: \" + base64UrlHeader);\n",
    "    }\n",
    "}\n",
    "\n",
    "// Run this code\n",
    "JwtHeaderExample.main(null);\n"
   ]
  },
  {
   "cell_type": "code",
   "execution_count": null,
   "metadata": {
    "vscode": {
     "languageId": "java"
    }
   },
   "outputs": [],
   "source": [
    "import java.util.Base64;\n",
    "import java.util.HashMap;\n",
    "import java.util.Map;\n",
    "\n",
    "public class JwtPayloadExample {\n",
    "    public static void main(String[] args) {\n",
    "        // JWT Payload (Claims)\n",
    "        Map<String, Object> claims = new HashMap<>();\n",
    "        claims.put(\"name\", \"Grace\");\n",
    "        claims.put(\"class\", \"CSA\");\n",
    "        claims.put(\"exp\", System.currentTimeMillis() + 1800000); // 30 minutes expiration\n",
    "\n",
    "        // Convert Claims to JSON and Base64 URL encode the payload\n",
    "        String payload = mapToJson(claims);\n",
    "        String base64UrlPayload = Base64.getUrlEncoder().encodeToString(payload.getBytes());\n",
    "\n",
    "        System.out.println(\"JWT Payload: \" + base64UrlPayload);\n",
    "    }\n",
    "\n",
    "    private static String mapToJson(Map<String, Object> map) {\n",
    "        // Implement JSON conversion logic (use your preferred approach)\n",
    "        return \"{ \\\"customKey\\\": \\\"customValue\\\" }\";\n",
    "    }\n",
    "}\n",
    "\n",
    "// Run This Code\n",
    "JwtPayloadExample.main(null);"
   ]
  },
  {
   "cell_type": "code",
   "execution_count": null,
   "metadata": {
    "vscode": {
     "languageId": "java"
    }
   },
   "outputs": [
    {
     "ename": "SyntaxError",
     "evalue": "invalid syntax (3765506892.py, line 8)",
     "output_type": "error",
     "traceback": [
      "\u001b[0;36m  File \u001b[0;32m\"/tmp/ipykernel_234454/3765506892.py\"\u001b[0;36m, line \u001b[0;32m8\u001b[0m\n\u001b[0;31m    public class JwtSignatureExample {\u001b[0m\n\u001b[0m           ^\u001b[0m\n\u001b[0;31mSyntaxError\u001b[0m\u001b[0;31m:\u001b[0m invalid syntax\n"
     ]
    }
   ],
   "source": [
    "import javax.crypto.Mac;\n",
    "import javax.crypto.spec.SecretKeySpec;\n",
    "import java.nio.charset.StandardCharsets;\n",
    "import java.security.InvalidKeyException;\n",
    "import java.security.NoSuchAlgorithmException;\n",
    "import java.util.Base64;\n",
    "\n",
    "public class JwtSignatureExample {\n",
    "    public static void main(String[] args) {\n",
    "        // Secret key for encoding and decoding\n",
    "        String secretKey = \"your_secret_key\";\n",
    "\n",
    "        // Combine Header and Payload with a period '.'\n",
    "        String base64UrlHeader = \"base64UrlHeader\"; // Placeholder for the actual base64UrlHeader\n",
    "        String base64UrlPayload = \"base64UrlPayload\"; // Placeholder for the actual base64UrlPayload\n",
    "        String headerPayload = base64UrlHeader + \".\" + base64UrlPayload;\n",
    "\n",
    "        // Generate HMAC SHA-256 signature\n",
    "        byte[] signature = HmacSha256(headerPayload, secretKey);\n",
    "\n",
    "        // Base64 URL encode the signature\n",
    "        String base64UrlSignature = Base64.getUrlEncoder().encodeToString(signature);\n",
    "\n",
    "        System.out.println(\"JWT Signature: \" + base64UrlSignature);\n",
    "    }\n",
    "\n",
    "    private static byte[] HmacSha256(String data, String key) {\n",
    "        try {\n",
    "            Mac sha256Hmac = Mac.getInstance(\"HmacSHA256\");\n",
    "            SecretKeySpec secretKey = new SecretKeySpec(key.getBytes(StandardCharsets.UTF_8), \"HmacSHA256\");\n",
    "            sha256Hmac.init(secretKey);\n",
    "            return sha256Hmac.doFinal(data.getBytes(StandardCharsets.UTF_8));\n",
    "        } catch (NoSuchAlgorithmException | InvalidKeyException e) {\n",
    "            throw new RuntimeException(\"Error while generating HMAC SHA-256\", e);\n",
    "        }\n",
    "    }\n",
    "}\n",
    "\n",
    "// Run\n",
    "JwtSignatureExample.main(null);"
   ]
  },
  {
   "cell_type": "markdown",
   "metadata": {},
   "source": [
    "# Popcorn Hack\n",
    "Figure out which one is the header, payload, and signature:\n",
    "____: eyJhbGciOiJIUzUxMiJ9.\n",
    "____: eyJSb2xlIjoiQWRtaW4iLCJJc3N1ZXIiOiJJc3N1ZXIiLCJVc2VybmFtZSI6IkphdmFJblVzZSIsImV4cCI6MTcwMjk3NDcyMCwiaWF0IjoxNzAyOTc0NzIwfQ.\n",
    "____: qLM3twVmy22-MAs8YBaBkr-G9S06vOB_OtN07Ri9rnVkzGXPDXjCX8WJQN-06PzrmDf19Od_HEXb9ZAAdTR46A"
   ]
  },
  {
   "cell_type": "markdown",
   "metadata": {},
   "source": [
    "<h1>Deep Dive into Anatomy of a JWT </h1>"
   ]
  },
  {
   "cell_type": "markdown",
   "metadata": {},
   "source": [
    "<h1> Implementation Approaches & Security Considerations </h1>"
   ]
  },
  {
   "cell_type": "markdown",
   "metadata": {},
   "source": []
  },
  {
   "cell_type": "markdown",
   "metadata": {},
   "source": [
    "<h1> JWT with Spring Boot </h1>"
   ]
  },
  {
   "cell_type": "markdown",
   "metadata": {},
   "source": [
    "<h2> Big Idea </h2>\n",
    "<img alt=\"JWTProcess\" src=\"{{site.baseurl}}/images/JwtProcess.png\">\n",
    "\n",
    "1. JwtAuthFilter is executed first (validates and checks JWT Tokens)\n",
    "    - Internal check to check if the token is there or not. \n",
    "    - Extracts the subject (username or email)\n",
    "    - If token is missing → 403 error sent\n",
    "    - If token is there:\n",
    "        - Makes a call using the UserDetails Service to fetch user info from the database. Uses the subject extracted to do so\n",
    "        - Response comes back from the database (user either exists or doesn't)\n",
    "        - If the user does not exist → 403 error sent\n",
    "        - If user exists → validate JWT process is started\n",
    "\n",
    "2. Validate JWT Process\n",
    "- Calls the jwt service which takes the user and jwt token as parameters\n",
    "- Token isn't valid → 403 error sent\n",
    "- Token is valid → update the security context holder and set the connected user. User is now authenticated yay!\n",
    "    - Automatically dispatch request → sent to dispatcher servlet → sent to controller → allow all execution user wants to do \n",
    "    - Sends http 200\n"
   ]
  },
  {
   "cell_type": "markdown",
   "metadata": {},
   "source": [
    "- JWTs are signed to ensure they cannot be modified in transit. Signature is a crucial aspect of JWT security.\n",
    "\n",
    "Key Usage\n",
    "- Token Issuance: When the token is issued by the authorization server, it is signed with a key.\n",
    "- Token Reception: When the client receives the token, the signature is validated using the key.\n",
    "\n",
    "Symmetric vs. Asymmetric Key Approaches\n",
    "- Symmetric Key: A single secret key is used both to sign and validate the token.\n",
    "- Asymmetric Key: Different keys are used to sign and validate the token, only the authorization server has the ability to sign it.\n",
    "\n",
    "Additional Security Considerations\n",
    "- Token Scope: limit token access to specific resources or actions\n",
    "- Token Revocation: implement mechanism to revoke token if user's access needs to be taken away\n",
    "- Token Encryption: encrypt token if it contains sensitive information that shouldn't be visible (even if intercepted)\n",
    "- Regular Key Rotation: rotate keys regularly for security and to limit the impact of compromised key\n"
   ]
  },
  {
   "cell_type": "markdown",
   "metadata": {},
   "source": [
    "<h2> Code Implementation </h2>\n",
    "- Clone this repo and follow along in each JWT file: https://github.com/vivianknee/jwtlessonBackend.git"
   ]
  },
  {
   "cell_type": "markdown",
   "metadata": {},
   "source": [
    "<h3> Logic flow </h3>\n",
    "<b>Step 1 (Client - Login Request):</b> The client sends a login request with user credentials (username and password) to the /authenticate endpoint.\n",
    "\n",
    "<b>Step 2 (JwtApiController):</b>\n",
    "- The JwtApiController receives the login request.\n",
    "- It authenticates the user credentials using the AuthenticationManager.\n",
    "- If authentication is successful:\n",
    "Retrieves user details using the PersonDetailsService.\n",
    "Generates a JWT using the JwtTokenUtil.\n",
    "Sends the JWT as an HTTP-only secure cookie in the response.\n",
    "\n",
    "<b>Step 3 (Client - Subsequent Requests):</b>\n",
    "- The client includes the JWT cookie in the headers of subsequent requests.\n",
    "\n",
    "<b>Step 4 (JwtRequestFilter):</b>\n",
    "- For each incoming request, the JwtRequestFilter intercepts the request.\n",
    "- Extracts the JWT from the HTTP request headers or cookies.\n",
    "- Validates the JWT using the JwtTokenUtil.\n",
    "- If the token is valid, sets up authentication using Spring Security's SecurityContextHolder.\n",
    "\n",
    "<b>Step 5 (Spring Security):</b>\n",
    "- Spring Security processes the request with the authenticated user.\n",
    "- The application can now authorize the user based on the roles and permissions associated with the JWT.\n",
    "\n",
    "<b>Step 6 (Error Handling - JwtAuthenticationEntryPoint):</b>\n",
    "- If the JWT is missing, invalid, or expired, and the request requires authentication, the JwtAuthenticationEntryPoint handles the authentication failure.\n",
    "- Responds with an HTTP 401 (Unauthorized) status.\n"
   ]
  },
  {
   "cell_type": "markdown",
   "metadata": {},
   "source": [
    "<h1>Hacks </h1>"
   ]
  }
 ],
 "metadata": {
  "kernelspec": {
   "display_name": "Python 3",
   "language": "python",
   "name": "python3"
  },
  "language_info": {
   "codemirror_mode": {
    "name": "ipython",
    "version": 3
   },
   "file_extension": ".py",
   "mimetype": "text/x-python",
   "name": "python",
   "nbconvert_exporter": "python",
   "pygments_lexer": "ipython3",
   "version": "3.10.12"
  }
 },
 "nbformat": 4,
 "nbformat_minor": 2
}
